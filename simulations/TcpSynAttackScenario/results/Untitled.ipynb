{
 "cells": [
  {
   "cell_type": "code",
   "execution_count": 1,
   "id": "dfd0b343",
   "metadata": {},
   "outputs": [],
   "source": [
    "import pandas as pd\n",
    "import numpy as np\n",
    "import matplotlib.pyplot as plt"
   ]
  },
  {
   "cell_type": "code",
   "execution_count": 24,
   "id": "d00d90a3",
   "metadata": {},
   "outputs": [],
   "source": [
    "def parse_ndarray(s):\n",
    "    return np.fromstring(s, sep=' ') if s else None\n",
    "\n",
    "def U(traffic, trafficMean, l, h):\n",
    "    if traffic < (l * trafficMean):\n",
    "        return 0\n",
    "    elif traffic > (h * trafficMean):\n",
    "        return 1\n",
    "    else:\n",
    "        first = traffic / trafficMean - l\n",
    "        second = h - l\n",
    "        return first / second\n",
    "    \n",
    "def tTrafficMean(t, lastTrafficMean, tTraffic):\n",
    "    first = (t - 1) * lastTrafficMean + tTraffic\n",
    "    return first / t\n",
    "\n",
    "def tDvar(t, lastDvar):\n",
    "    if t < 2:\n",
    "        return 0\n",
    "    tZ = traffic[t] - traffic[t - 1]\n",
    "    first = (t - 2) * lastDvar + tZ * tZ\n",
    "    second = t - 1\n",
    "    return first / second"
   ]
  },
  {
   "cell_type": "code",
   "execution_count": 5,
   "id": "788bd240",
   "metadata": {},
   "outputs": [],
   "source": [
    "tcpSynAttack = pd.read_csv('TcpSynAttack.csv', converters = {\n",
    "    'vectime': parse_ndarray,\n",
    "    'vecvalue': parse_ndarray\n",
    "})"
   ]
  },
  {
   "cell_type": "code",
   "execution_count": 6,
   "id": "641a4c5c",
   "metadata": {},
   "outputs": [],
   "source": [
    "vec = tcpSynAttack[(tcpSynAttack.type == 'vector') & (tcpSynAttack.name == 'NumReceivedIpPackets:vector')].iloc[0]\n",
    "timeSeq = vec.vectime.astype(int)\n",
    "packets = vec.vecvalue.astype(int)\n",
    "timeLim = max(timeSeq) + 1"
   ]
  },
  {
   "cell_type": "code",
   "execution_count": 7,
   "id": "097e6ad7",
   "metadata": {},
   "outputs": [],
   "source": [
    "indNumPkts = np.zeros(timeLim, dtype=int)\n",
    "for i in range(1, timeLim):\n",
    "    indArr = np.argwhere(timeSeq == i)\n",
    "    if len(indArr) > 0:\n",
    "        indNumPkts[i] = indArr[-1]\n",
    "    else:\n",
    "        indNumPkts[i] = indNumPkts[i-1]"
   ]
  },
  {
   "cell_type": "code",
   "execution_count": 8,
   "id": "93fd5d12",
   "metadata": {},
   "outputs": [],
   "source": [
    "traffic = np.zeros(timeLim, dtype=float)\n",
    "for t in range(1, timeLim):\n",
    "    traffic[t] = packets[indNumPkts[t]] / t"
   ]
  },
  {
   "cell_type": "code",
   "execution_count": 42,
   "id": "90e34918",
   "metadata": {},
   "outputs": [],
   "source": [
    "bufSize = 1200\n",
    "i = 3\n",
    "l = 2.5\n",
    "h = 3.5\n",
    "a = 0\n",
    "\n",
    "lastU = 0\n",
    "lastA = 0\n",
    "isComputerTrafficMean = True\n",
    "alertTimeList = []\n",
    "trafficMean = np.zeros(timeLim)\n",
    "dVar = np.zeros(timeLim)\n",
    "\n",
    "for t in np.arange(1, timeLim):\n",
    "    s = (i * bufSize / traffic[t]).astype(int)\n",
    "    dVar[t] = tDvar(t, dVar[t - 1])\n",
    "    trafficMean[t] = trafficMean[t - 1]\n",
    "    if s == 0:\n",
    "        alertTimeList.append(t)\n",
    "        \n",
    "        isComputerTrafficMean = False\n",
    "        A = u = 1\n",
    "    else:\n",
    "        if isComputerTrafficMean:\n",
    "            trafficMean[t] = tTrafficMean(t, trafficMean[t - 1], traffic[t])\n",
    "        \n",
    "        u = U(traffic[t], trafficMean[t], 2.5, 3.5)\n",
    "        \n",
    "        if u > 0:\n",
    "            i += 1\n",
    "            a += 1\n",
    "            A = max(u, lastU) if dVar[t] < dVar[t - 1] else u\n",
    "            if a >= s:\n",
    "                if A > lastA:\n",
    "                    alertTimeList.append(t)\n",
    "                    \n",
    "                    isComputerTrafficMean = false\n",
    "                else:\n",
    "                    a = s - 1\n",
    "        else:\n",
    "            trafficMean[t] = tTrafficMean(t, trafficMean[t - 1], traffic[t])\n",
    "            isComputerTrafficMean = True\n",
    "            A = 0\n",
    "            a = 0\n",
    "    lastA = A\n",
    "    lastU = u"
   ]
  },
  {
   "cell_type": "code",
   "execution_count": 26,
   "id": "40c40604",
   "metadata": {},
   "outputs": [],
   "source": [
    "time = np.arange(0, timeLim, dtype=int)"
   ]
  },
  {
   "cell_type": "code",
   "execution_count": 83,
   "id": "6db7fa93",
   "metadata": {},
   "outputs": [
    {
     "data": {
      "text/plain": [
       "Text(0.5, 1.0, 'statistic')"
      ]
     },
     "execution_count": 83,
     "metadata": {},
     "output_type": "execute_result"
    },
    {
     "data": {
      "image/png": "[encoded data removed]",
      "text/plain": [
       "<Figure size 936x360 with 1 Axes>"
      ]
     },
     "metadata": {
      "needs_background": "light"
     },
     "output_type": "display_data"
    }
   ],
   "source": [
    "fig, ax = plt.subplots(figsize=(13,5), layout='constrained')\n",
    "#ax.plot(time, trafficMean, label='TrafficMean')\n",
    "#ax.plot(time, dVar, label='Dvar')\n",
    "alertTimeList = np.arange(100, 300)\n",
    "alertTime = np.ma.masked_where(np.isin(time, alertTimeList, invert=True), time)\n",
    "normalTime = np.ma.masked_where(np.isin(time, alertTimeList, invert=False), time)\n",
    "ax.plot(alertTime, traffic, label='Alert')\n",
    "ax.plot(normalTime, traffic, label='NormalTraffic')\n",
    "ax.legend()\n",
    "ax.set_xlabel('time')  # Add an x-label to the axes.\n",
    "ax.set_ylabel('value')  # Add a y-label to the axes.\n",
    "ax.set_title(\"statistic\")"
   ]
  },
  {
   "cell_type": "code",
   "execution_count": 80,
   "id": "cabf812b",
   "metadata": {},
   "outputs": [
    {
     "name": "stdout",
     "output_type": "stream",
     "text": [
      "True\n"
     ]
    }
   ],
   "source": [
    "print(time.all() not in alertTimeList)"
   ]
  },
  {
   "cell_type": "code",
   "execution_count": 71,
   "id": "462effca",
   "metadata": {},
   "outputs": [
    {
     "name": "stdout",
     "output_type": "stream",
     "text": [
      "[  0   1   2   3   4   5   6   7   8   9  10  11  12  13  14  15  16  17\n",
      "  18  19  20  21  22  23  24  25  26  27  28  29  30  31  32  33  34  35\n",
      "  36  37  38  39  40  41  42  43  44  45  46  47  48  49  50  51  52  53\n",
      "  54  55  56  57  58  59  60  61  62  63  64  65  66  67  68  69  70  71\n",
      "  72  73  74  75  76  77  78  79  80  81  82  83  84  85  86  87  88  89\n",
      "  90  91  92  93  94  95  96  97  98  99 100 101 102 103 104 105 106 107\n",
      " 108 109 110 111 112 113 114 115 116 117 118 119 120 121 122 123 124 125\n",
      " 126 127 128 129 130 131 132 133 134 135 136 137 138 139 140 141 142 143\n",
      " 144 145 146 147 148 149 150 151 152 153 154 155 156 157 158 159 160 161\n",
      " 162 163 164 165 166 167 168 169 170 171 172 173 174 175 176 177 178 179\n",
      " 180 181 182 183 184 185 186 187 188 189 190 191 192 193 194 195 196 197\n",
      " 198 199 200 201 202 203 204 205 206 207 208 209 210 211 212 213 214 215\n",
      " 216 217 218 219 220 221 222 223 224 225 226 227 228 229 230 231 232 233\n",
      " 234 235 236 237 238 239 240 241 242 243 244 245 246 247 248 249 250 251\n",
      " 252 253 254 255 256 257 258 259 260 261 262 263 264 265 266 267 268 269\n",
      " 270 271 272 273 274 275 276 277 278 279 280 281 282 283 284 285 286 287\n",
      " 288 289 290 291 292 293 294 295 296 297 298 299 300 301 302 303 304 305\n",
      " 306 307 308 309 310 311 312 313 314 315 316 317 318 319 320 321 322 323\n",
      " 324 325 326 327 328 329 330 331 332 333 334 335 336 337 338 339 340 341\n",
      " 342 343 344 345 346 347 348 349 350 351 352 353 354 355 356 357 358 359\n",
      " 360 361 362 363 364 365 366 367 368 369 370 371 372 373 374 375 376 377\n",
      " 378 379 380 381 382 383 384 385 386 387 388 389 390 391 392 393 394 395\n",
      " 396 397 398 399 400 401 402 403 404 405 406 407 408 409 410 411 412 413\n",
      " 414 415 416 417 418 419 420 421]\n"
     ]
    }
   ],
   "source": [
    "print(normalTime)"
   ]
  },
  {
   "cell_type": "code",
   "execution_count": 78,
   "id": "8486aa67",
   "metadata": {},
   "outputs": [
    {
     "name": "stdout",
     "output_type": "stream",
     "text": [
      "[False False False False False False False False False False False False\n",
      " False False False False False False False False False False False False\n",
      " False False False False False False False False False False False False\n",
      " False False False False False False False False False False False False\n",
      " False False False False False False False False False False False False\n",
      " False False False False False False False False False False False False\n",
      " False False False False False False False False False False False False\n",
      " False False False False False False False False False False False False\n",
      " False False False False  True  True  True  True  True  True  True  True\n",
      "  True  True  True  True  True  True  True  True  True  True  True  True\n",
      "  True  True  True  True  True  True  True  True  True  True  True  True\n",
      "  True  True  True  True  True  True  True  True  True  True  True  True\n",
      "  True  True  True  True  True  True  True  True  True  True  True  True\n",
      "  True  True  True  True  True  True  True  True  True  True  True  True\n",
      "  True  True  True  True  True  True  True  True  True  True  True  True\n",
      "  True  True  True  True  True  True  True  True  True  True  True  True\n",
      "  True  True  True  True  True  True  True  True]\n"
     ]
    },
    {
     "data": {
      "image/png": "[encoded data removed]",
      "text/plain": [
       "<Figure size 432x288 with 1 Axes>"
      ]
     },
     "metadata": {
      "needs_background": "light"
     },
     "output_type": "display_data"
    }
   ],
   "source": [
    "t = np.arange(0.0, 2.0, 0.01)\n",
    "s = np.sin(2 * np.pi * t)\n",
    "\n",
    "t1 = np.ma.masked_where(t >= 1, t)\n",
    "t2 = np.ma.masked_where(t < 1, t)\n",
    "print(t >= 1)\n",
    "fig, ax = plt.subplots()\n",
    "ax.plot(t1, s, t2, s)\n",
    "plt.show()"
   ]
  }
 ],
 "metadata": {
  "kernelspec": {
   "display_name": "Python 3 (ipykernel)",
   "language": "python",
   "name": "python3"
  },
  "language_info": {
   "codemirror_mode": {
    "name": "ipython",
    "version": 3
   },
   "file_extension": ".py",
   "mimetype": "text/x-python",
   "name": "python",
   "nbconvert_exporter": "python",
   "pygments_lexer": "ipython3",
   "version": "3.8.10"
  }
 },
 "nbformat": 4,
 "nbformat_minor": 5
}
